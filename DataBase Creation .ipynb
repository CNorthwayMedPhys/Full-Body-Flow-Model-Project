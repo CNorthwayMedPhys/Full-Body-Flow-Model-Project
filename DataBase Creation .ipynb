{
 "cells": [
  {
   "cell_type": "code",
   "execution_count": 1,
   "id": "cb97f89e",
   "metadata": {},
   "outputs": [],
   "source": [
    "#!pip install openpyxl"
   ]
  },
  {
   "cell_type": "code",
   "execution_count": 2,
   "id": "8159a7a3",
   "metadata": {},
   "outputs": [
    {
     "name": "stdout",
     "output_type": "stream",
     "text": [
      "Jupyter environment detected. Enabling Open3D WebVisualizer.\n",
      "[Open3D INFO] WebRTC GUI backend enabled.\n",
      "[Open3D INFO] WebRTCWindowSystem: HTTP handshake server disabled.\n"
     ]
    }
   ],
   "source": [
    "#Import\n",
    "import pandas as pd\n",
    "import numpy as np\n",
    "import scipy\n",
    "import open3d as o3d"
   ]
  },
  {
   "cell_type": "code",
   "execution_count": 3,
   "id": "6f266f61",
   "metadata": {},
   "outputs": [],
   "source": [
    "#Display two point cloud with different colours in one o3d window\n",
    "def display_two_pointclouds(array_1,array_2,windowname):\n",
    "    p1_pcd = o3d.geometry.PointCloud()\n",
    "    p1_pcd.points = o3d.utility.Vector3dVector(array_1)\n",
    "    p1_pcd.paint_uniform_color([1, 0.706, 0])\n",
    "\n",
    "\n",
    "    p2_pcd = o3d.geometry.PointCloud()\n",
    "    p2_pcd.points = o3d.utility.Vector3dVector(array_2)\n",
    "    p2_pcd.paint_uniform_color([0, 0.706, 1])\n",
    "\n",
    "    concate_pc = np.concatenate((array_1, array_2),axis = 0)\n",
    "    p1_color = np.asarray(p1_pcd.colors)\n",
    "    p2_color = np.asarray(p2_pcd.colors)\n",
    "    p3_color = np.concatenate((p1_color,p2_color), axis=0)\n",
    "\n",
    "    p3_pcd = o3d.geometry.PointCloud()\n",
    "    p3_pcd.points = o3d.utility.Vector3dVector(concate_pc)\n",
    "    p3_pcd.colors = o3d.utility.Vector3dVector(p3_color)\n",
    "    o3d.visualization.draw_geometries([p3_pcd],window_name = windowname)"
   ]
  },
  {
   "cell_type": "markdown",
   "id": "05fb34be",
   "metadata": {},
   "source": [
    "The purpose of this function is to take a vessel and determine at which axial distance at which another vessel branches off. Additionally it needs to check to see what the terminus condition of the vessel is and then create the appropriate ending conditions for it whether that be flowing directly into another vessel (continous), branching into multiple vessels (split) or no end condition in which case we will need to apply the 0D end condition (tree).\n",
    "\n",
    "Our first necessary step will be to import the excel file which contains all of the file names and the links between them"
   ]
  },
  {
   "cell_type": "code",
   "execution_count": 4,
   "id": "480136e0",
   "metadata": {},
   "outputs": [],
   "source": [
    "#Import Excel Sheets\n",
    "try:\n",
    "    arteries_sheet = pd.read_excel('C:\\\\Users\\\\Cassidy.Northway\\\\GitRemoteRepo\\\\FlowTracker.xlsx', sheet_name = 0)\n",
    "    veins_sheet = pd.read_excel('C:\\\\Users\\\\Cassidy.Northway\\\\GitRemoteRepo\\\\FlowTracker.xlsx', sheet_name = 1)\n",
    "except:\n",
    "    arteries_sheet = pd.read_excel('C:\\\\Users\\\\cbnor\\\\Documents\\\\Full Body Flow Model Project\\\\FlowTracker.xlsx', sheet_name = 0)\n",
    "    veins_sheet = pd.read_excel('C:\\\\Users\\\\cbnor\\\\Documents\\\\Full Body Flow Model Project\\\\FlowTracker.xlsx', sheet_name = 1)\n",
    "    "
   ]
  },
  {
   "cell_type": "code",
   "execution_count": 5,
   "id": "47ab8999",
   "metadata": {},
   "outputs": [],
   "source": [
    "#Select sheet\n",
    "sheet = arteries_sheet\n",
    "#sheet = veins_sheet"
   ]
  },
  {
   "cell_type": "code",
   "execution_count": 6,
   "id": "1ab42169",
   "metadata": {},
   "outputs": [],
   "source": [
    "#Define our data frame\n",
    "df = pd.DataFrame(columns=['Name','Centre Axis Array', 'Radius Array','End Condition'])\n"
   ]
  },
  {
   "cell_type": "code",
   "execution_count": 8,
   "id": "82e82f5c",
   "metadata": {},
   "outputs": [],
   "source": [
    "#Now we need to define our \n",
    "location = 0\n",
    "\n",
    "#Look at every vessel in the sheet\n",
    "for index in range(551,577):#range(0,sheet.shape[0]):\n",
    "\n",
    "    name = sheet.at[index,'Anatomy Name']\n",
    "    file_name = sheet.at[index,'Filename']\n",
    "    \n",
    "    #Determine whether the vessel branches at all\n",
    "    end_point = sheet.at[index,'End Point']\n",
    "\n",
    "    if pd.isna(end_point):\n",
    "        final_condition = 'LW' #indicating that the end condition will be the Lax Wendroff\n",
    "    else:\n",
    "        #If the branches exist then we need to process the \n",
    "        final_condition = end_point.split(',')\n",
    "        final_condition = [s.strip() for s in final_condition]\n",
    "    \n",
    "    #Does the vessel branch (other than the end condition?)\n",
    "    branches = sheet.at[index,'Out Flow']\n",
    "    \n",
    "    if pd.isna(branches):\n",
    "        segement_tag  = False\n",
    "    else:\n",
    "        segement_tag = True\n",
    "        branches = branches.split(',')\n",
    "        branches = [s.strip() for s in branches]\n",
    "        \n",
    "        #Remove end condition branches \n",
    "        if final_condition != 'LW':\n",
    "            for vessels in final_condition:\n",
    "                branches.remove(vessels)\n",
    "\n",
    "    #If there are no segements then we just save the whole thing\n",
    "    if segement_tag == False:\n",
    "        main_branch_filename = file_name + '_fitted_data.npy'\n",
    "    \n",
    "        try:\n",
    "            main_branch_array = np.load('C:\\\\Users\\\\Cassidy.Northway\\\\GitRemoteRepo\\\\FittedVesselsFiles\\\\' + main_branch_filename)\n",
    "        except:\n",
    "            main_branch_array = np.load('C:\\\\Users\\\\cbnor\\\\Documents\\\\Full Body Flow Model Project\\\\FittedVesselsFiles\\\\' + main_branch_filename)\n",
    "        sub_name =  name + '_0'\n",
    "        \n",
    "        center_sub_array = main_branch_array[:,0:3 ]\n",
    "        radius_array = main_branch_array[:,3 ]\n",
    "        end_condition = final_condition\n",
    "        new_row_seg = {'Name' : sub_name,'Centre Axis Array': center_sub_array, 'Radius Array' : radius_array,'End Condition' : end_condition }\n",
    "        df.loc[len(df)] = new_row_seg\n",
    "                \n",
    "    #If the vessel does segement now we gotta set spicy and determine where it segements for each vessel and which comes first\n",
    "    if segement_tag == True:\n",
    "        seg_df = pd.DataFrame(columns=['Branch Name','Index of Split'])\n",
    "        sub_index = 0\n",
    "        \n",
    "        #Find the file names of the main and branches\n",
    "        main_branch_filename = file_name + '_fitted_data.npy'\n",
    "        branch_filenames = []\n",
    "\n",
    "        #For each of the branching files determine the file name to load in the gile\n",
    "        for i in range(0,len(branches)):\n",
    "            branch_name = branches[i]\n",
    "            vessel_row = sheet[sheet['Anatomy Name'].str.match(branch_name)].index.values[0]\n",
    "            branch_filename = sheet.at[sheet.index[vessel_row],'Filename']\n",
    "            branch_filename = branch_filename + '_fitted_data.npy'\n",
    "            branch_filenames.append(branch_filename)\n",
    "\n",
    "        #Now we import all of the vessel file\n",
    "        try:\n",
    "            main_branch_array = np.load('C:\\\\Users\\\\Cassidy.Northway\\\\GitRemoteRepo\\\\FittedVesselsFiles\\\\' + main_branch_filename)\n",
    "        except:\n",
    "            main_branch_array = np.load('C:\\\\Users\\\\cbnor\\\\Documents\\\\Full Body Flow Model Project\\\\FittedVesselsFiles\\\\' + main_branch_filename)\n",
    "\n",
    "        for i in range(0,len(branches)):\n",
    "            branch_filename = branch_filenames[i]\n",
    "            branch_name = branches[i]\n",
    "        \n",
    "            try:\n",
    "                branch_array = np.load('C:\\\\Users\\\\Cassidy.Northway\\\\GitRemoteRepo\\\\FittedVesselsFiles\\\\' + branch_filename)\n",
    "            except:\n",
    "                branch_array = np.load('C:\\\\Users\\\\cbnor\\\\Documents\\\\Full Body Flow Model Project\\\\FittedVesselsFiles\\\\' + branch_filename)\n",
    "\n",
    "\n",
    "            #Find the nearest points\n",
    "            dist_array = scipy.spatial.distance.cdist(main_branch_array[:,0:3],branch_array[:,0:3])\n",
    "            dist_array = dist_array[:,0]\n",
    "\n",
    "            index_split = np.where (np.min(dist_array) == dist_array)[0]\n",
    "            seg_df.loc[len(seg_df)] = {'Branch Name': branch_name , 'Index of Split': index_split[0]}\n",
    "        \n",
    "        #We now have the number of off branching vessels and where they branch so now we need to now save the \n",
    "        #segements and off branches and sort segment frame by distance along vessel\n",
    "        \n",
    "        seg_df = seg_df.sort_values(by ='Index of Split')\n",
    "        seg_df = seg_df.reset_index(drop=True)\n",
    "        intial_index = 0\n",
    "\n",
    "        for i in range(0,len(seg_df)+1):\n",
    "            if i != len(seg_df):\n",
    "                sub_name =  name + '_' + str(i)\n",
    "                final_index = seg_df.at [ i , 'Index of Split']\n",
    "                center_sub_array = main_branch_array[intial_index:final_index+1,0:3 ]\n",
    "                radius_array = main_branch_array[intial_index:final_index,3 ]\n",
    "                end_condition = [name + '_' + str(i+1), branches[i]+'_0' ]\n",
    "                new_row_seg = {'Name' : sub_name,'Centre Axis Array': center_sub_array, 'Radius Array' : radius_array,'End Condition' : end_condition }\n",
    "                df.loc[len(df)] = new_row_seg\n",
    "                intial_index = final_index\n",
    "            else:\n",
    "                sub_name =  name + '_' + str(i)\n",
    "                final_index = -1\n",
    "                center_sub_array = main_branch_array[intial_index:final_index,0:3 ]\n",
    "                radius_array = main_branch_array[intial_index:final_index,3 ]\n",
    "                if final_condition != 'LW':\n",
    "                    end_condition = [final_condition[0] +'_0']\n",
    "                else:\n",
    "                    end_condition = final_condition\n",
    "                new_row_seg = {'Name' : sub_name,'Centre Axis Array': center_sub_array, 'Radius Array' : radius_array,'End Condition' : end_condition }\n",
    "                df.loc[len(df)] = new_row_seg\n",
    "             "
   ]
  },
  {
   "cell_type": "markdown",
   "id": "e3a3fe70",
   "metadata": {},
   "source": [
    "## Reassess end conditions\n",
    "\n",
    "We want to go through rows and change the end condition from the name of the vessel segement to the index of those vessels"
   ]
  },
  {
   "cell_type": "code",
   "execution_count": 33,
   "id": "6958e84b",
   "metadata": {
    "scrolled": true
   },
   "outputs": [
    {
     "name": "stdout",
     "output_type": "stream",
     "text": [
      "                 Name                                  Centre Axis Array  \\\n",
      "0    arteries_rleg0_0  [[-107.4632424731635, -5.938743137985156, -133...   \n",
      "1    arteries_rleg1_0  [[-114.96594771700069, -4.516197961396698, -14...   \n",
      "2    arteries_rleg1_1  [[-114.88989852866645, -2.403195732162193, -14...   \n",
      "3    arteries_rleg1_2  [[-114.88989852866645, -2.403195732162193, -14...   \n",
      "4    arteries_rleg1_3  [[-114.69956053652277, -0.2642367914375668, -1...   \n",
      "..                ...                                                ...   \n",
      "65  arteries_rleg28_0  [[-197.49080264872237, -117.06490042604094, -1...   \n",
      "66  arteries_rleg29_0  [[-214.6341143795293, -69.02840543378994, -103...   \n",
      "67  arteries_rleg29_1  [[-213.9998099410211, -76.97964714852628, -104...   \n",
      "68  arteries_rleg29_2  [[-213.87402560440543, -93.67073608487095, -10...   \n",
      "69  arteries_rleg29_3  [[-213.87402560440543, -93.67073608487095, -10...   \n",
      "\n",
      "                                         Radius Array End Condition  \n",
      "0   [1.0006416883153082, 1.0006417027884988, 1.000...            LW  \n",
      "1   [1.1852679424172674, 1.1852679428158368, 1.185...        [2, 0]  \n",
      "2                                                  []        [3, 7]  \n",
      "3   [1.1852679456122301, 1.185267946724644, 1.1852...       [4, 10]  \n",
      "4   [1.1852664741121128, 1.1852660369875265, 1.185...       [5, 61]  \n",
      "..                                                ...           ...  \n",
      "65  [0.2373008338951866, 0.23730095244290275, 0.23...            LW  \n",
      "66  [0.2777687821291062, 0.2777702016529563, 0.277...      [67, 56]  \n",
      "67  [0.2804769822093866, 0.28056670099943226, 0.28...      [68, 39]  \n",
      "68                                                 []      [69, 36]  \n",
      "69  [0.2810379191986909, 0.28113671086043857, 0.28...            LW  \n",
      "\n",
      "[70 rows x 4 columns]\n"
     ]
    }
   ],
   "source": [
    "#Go row by row of the data frame\n",
    "\n",
    "for i in range (0,len(df)):\n",
    "    end_condition = df.at[i,'End Condition']\n",
    "    if end_condition != 'LW':\n",
    "        replacement = []\n",
    "        if isinstance(end_condition[0], str): \n",
    "            for j in range(0,len(end_condition)):\n",
    "                condition = end_condition[j]\n",
    "\n",
    "                index = df[df['Name']==condition].index.values[0]\n",
    "                replacement.append(index)\n",
    "            df.at[i,'End Condition'] = replacement \n",
    "            \n"
   ]
  },
  {
   "cell_type": "code",
   "execution_count": 34,
   "id": "ee63e022",
   "metadata": {},
   "outputs": [],
   "source": [
    "df.to_pickle('rleg.pkl')"
   ]
  },
  {
   "cell_type": "code",
   "execution_count": null,
   "id": "c3501875",
   "metadata": {},
   "outputs": [],
   "source": []
  }
 ],
 "metadata": {
  "kernelspec": {
   "display_name": "Python 3 (ipykernel)",
   "language": "python",
   "name": "python3"
  },
  "language_info": {
   "codemirror_mode": {
    "name": "ipython",
    "version": 3
   },
   "file_extension": ".py",
   "mimetype": "text/x-python",
   "name": "python",
   "nbconvert_exporter": "python",
   "pygments_lexer": "ipython3",
   "version": "3.10.9"
  }
 },
 "nbformat": 4,
 "nbformat_minor": 5
}
