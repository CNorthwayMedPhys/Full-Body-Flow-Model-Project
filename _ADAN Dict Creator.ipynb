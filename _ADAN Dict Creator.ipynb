{
 "cells": [
  {
   "cell_type": "code",
   "execution_count": 1,
   "id": "9b7b2dad-cc28-48f2-9493-924f0a7796fd",
   "metadata": {},
   "outputs": [],
   "source": [
    "import numpy as np\n",
    "import pandas as pd\n",
    "from scipy.interpolate import interp1d\n",
    "from os import makedirs\n",
    "from os.path import exists"
   ]
  },
  {
   "cell_type": "code",
   "execution_count": 2,
   "id": "2984e117-7b78-43f1-82e8-06c0db4d9b78",
   "metadata": {},
   "outputs": [],
   "source": [
    "#Load in excel sheets, all of them!\n",
    "\n",
    "try:\n",
    "    df = pd.ExcelFile ('C:\\\\Users\\\\cbnor\\\\Documents\\\\Full Body Flow Model Project\\\\data_ADAN.xlsx')\n",
    "except:\n",
    "    df = pd.ExcelFile ('C:\\\\Users\\\\Cassidy.Northway\\\\RemoteGit\\\\data_ADAN.xlsx')"
   ]
  },
  {
   "cell_type": "code",
   "execution_count": 3,
   "id": "637cd59f-360d-4d4c-96ce-0330ec474475",
   "metadata": {},
   "outputs": [],
   "source": [
    "def dump_results(suffix, data_dir,data,name):\n",
    "           \n",
    "           \n",
    "    if not exists(\"%s/%s\" % (data_dir, suffix)):\n",
    "        makedirs(\"%s/%s\" % (data_dir, suffix))\n",
    "    np.savetxt(\"%s/%s/%s.csv\" % (data_dir, suffix,name), data, delimiter=',')\n",
    "\n",
    "  \n",
    "\n"
   ]
  },
  {
   "cell_type": "code",
   "execution_count": 4,
   "id": "050bcef9-0410-4517-8a20-c440487a9569",
   "metadata": {},
   "outputs": [],
   "source": [
    "#Go through each sheet at a time\n",
    "\n",
    "for sheet in df.sheet_names:\n",
    "    df_sheet = pd.read_excel(df,sheet_name=sheet,usecols='B,C,F')\n",
    "    len = df_sheet.shape[0]\n",
    "    rows = df_sheet.shape[1]\n",
    "     \n",
    "    U_data = df_sheet['Flow Rate (cm^3/s)'].to_numpy()\n",
    "    A_data = df_sheet['Lumen Area (cm^2)'].to_numpy()\n",
    "    P_data = df_sheet['Pressure (mmHg)'].to_numpy()\n",
    "\n",
    "    for data in [U_data, A_data, P_data]:\n",
    "        f = interp1d(np.arange(len), data, 'slinear')\n",
    "        downsample = f(np.linspace(0, len-1, num=50))\n",
    "        if (data == U_data).all():\n",
    "            name = 'u'+sheet\n",
    "        elif (data == A_data).all():\n",
    "            name = 'a'+sheet\n",
    "        else:\n",
    "            name = 'p' + sheet\n",
    "            \n",
    "        dump_results(sheet,'C:\\\\Users\\\\Cassidy.Northway\\\\RemoteGit\\\\ADAN', downsample, name)          \n",
    "            \n",
    "        \n",
    "    \n",
    "    "
   ]
  },
  {
   "cell_type": "code",
   "execution_count": null,
   "id": "3c495db2-fd8f-4e2e-ab9a-bd7b5500ff8a",
   "metadata": {},
   "outputs": [],
   "source": []
  }
 ],
 "metadata": {
  "kernelspec": {
   "display_name": "Python 3 (ipykernel)",
   "language": "python",
   "name": "python3"
  },
  "language_info": {
   "codemirror_mode": {
    "name": "ipython",
    "version": 3
   },
   "file_extension": ".py",
   "mimetype": "text/x-python",
   "name": "python",
   "nbconvert_exporter": "python",
   "pygments_lexer": "ipython3",
   "version": "3.11.7"
  }
 },
 "nbformat": 4,
 "nbformat_minor": 5
}
