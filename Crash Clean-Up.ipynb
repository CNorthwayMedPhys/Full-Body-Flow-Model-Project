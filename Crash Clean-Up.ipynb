{
 "cells": [
  {
   "cell_type": "code",
   "execution_count": 5,
   "id": "0a9de0bf",
   "metadata": {},
   "outputs": [],
   "source": [
    "from nbformat import read, write\n",
    "\n",
    "def Remove_Output(Book):\n",
    "\n",
    "    for cell in Book.cells:\n",
    "\n",
    "        if hasattr(cell, \"outputs\"):\n",
    "\n",
    "            cell.outputs = []\n",
    "\n",
    "        if hasattr(cell, \"prompt_number\"):\n",
    "\n",
    "            del cell[\"prompt_number\"]\n",
    "            \n",
    "            \n",
    "\n",
    "Book= read(open('08.30 ST BCs.ipynb'), 4)\n",
    "Remove_Output(Book)\n",
    "write(Book, open('08.30 ST BCs.ipynb', 'w'), 4)"
   ]
  },
  {
   "cell_type": "code",
   "execution_count": null,
   "id": "300b0fcb",
   "metadata": {},
   "outputs": [],
   "source": []
  },
  {
   "cell_type": "code",
   "execution_count": null,
   "id": "bf9ba0d2",
   "metadata": {},
   "outputs": [],
   "source": []
  }
 ],
 "metadata": {
  "kernelspec": {
   "display_name": "Python 3 (ipykernel)",
   "language": "python",
   "name": "python3"
  },
  "language_info": {
   "codemirror_mode": {
    "name": "ipython",
    "version": 3
   },
   "file_extension": ".py",
   "mimetype": "text/x-python",
   "name": "python",
   "nbconvert_exporter": "python",
   "pygments_lexer": "ipython3",
   "version": "3.10.9"
  }
 },
 "nbformat": 4,
 "nbformat_minor": 5
}
