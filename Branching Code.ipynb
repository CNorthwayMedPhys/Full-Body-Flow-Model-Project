{
 "cells": [
  {
   "cell_type": "markdown",
   "id": "51880f47",
   "metadata": {},
   "source": [
    "The purpose of this function is to take a vessel and determine at which axial distance at which another vessel branches off.\n",
    "Additionally it needs to check to see what the terminus condition of the vessel is and then create the appropriate ending conditions for it whether that be flowing directly into another vessel (continous), branching into multiple vessels (split) or no end condition in which case we will need to apply the 0D end condition (tree). "
   ]
  },
  {
   "cell_type": "markdown",
   "id": "066a4e41",
   "metadata": {},
   "source": [
    "Our first necessary step will be to import the excel file which contains all of the file names and the links between them"
   ]
  },
  {
   "cell_type": "code",
   "execution_count": 8,
   "id": "258464c5",
   "metadata": {},
   "outputs": [
    {
     "name": "stdout",
     "output_type": "stream",
     "text": [
      "Requirement already satisfied: pandas in c:\\users\\cassidy.northway\\appdata\\local\\anaconda3\\lib\\site-packages (1.5.3)\n",
      "Requirement already satisfied: python-dateutil>=2.8.1 in c:\\users\\cassidy.northway\\appdata\\local\\anaconda3\\lib\\site-packages (from pandas) (2.8.2)\n",
      "Requirement already satisfied: pytz>=2020.1 in c:\\users\\cassidy.northway\\appdata\\local\\anaconda3\\lib\\site-packages (from pandas) (2022.7)\n",
      "Requirement already satisfied: numpy>=1.21.0 in c:\\users\\cassidy.northway\\appdata\\local\\anaconda3\\lib\\site-packages (from pandas) (1.23.5)\n",
      "Requirement already satisfied: six>=1.5 in c:\\users\\cassidy.northway\\appdata\\local\\anaconda3\\lib\\site-packages (from python-dateutil>=2.8.1->pandas) (1.16.0)\n"
     ]
    }
   ],
   "source": [
    "#Install \n",
    "#!pip install pandas"
   ]
  },
  {
   "cell_type": "code",
   "execution_count": 47,
   "id": "ea34631d",
   "metadata": {},
   "outputs": [
    {
     "name": "stdout",
     "output_type": "stream",
     "text": [
      "Jupyter environment detected. Enabling Open3D WebVisualizer.\n",
      "[Open3D INFO] WebRTC GUI backend enabled.\n",
      "[Open3D INFO] WebRTCWindowSystem: HTTP handshake server disabled.\n"
     ]
    }
   ],
   "source": [
    "#Import\n",
    "import pandas as pd\n",
    "import numpy as np\n",
    "import scipy\n",
    "import open3d as o3d"
   ]
  },
  {
   "cell_type": "code",
   "execution_count": 48,
   "id": "b3317c02",
   "metadata": {},
   "outputs": [],
   "source": [
    "#Display two point cloud with different colours in one o3d window\n",
    "def display_two_pointclouds(array_1,array_2,windowname):\n",
    "    p1_pcd = o3d.geometry.PointCloud()\n",
    "    p1_pcd.points = o3d.utility.Vector3dVector(array_1)\n",
    "    p1_pcd.paint_uniform_color([1, 0.706, 0])\n",
    "\n",
    "\n",
    "    p2_pcd = o3d.geometry.PointCloud()\n",
    "    p2_pcd.points = o3d.utility.Vector3dVector(array_2)\n",
    "    p2_pcd.paint_uniform_color([0, 0.706, 1])\n",
    "\n",
    "    concate_pc = np.concatenate((array_1, array_2),axis = 0)\n",
    "    p1_color = np.asarray(p1_pcd.colors)\n",
    "    p2_color = np.asarray(p2_pcd.colors)\n",
    "    p3_color = np.concatenate((p1_color,p2_color), axis=0)\n",
    "\n",
    "    p3_pcd = o3d.geometry.PointCloud()\n",
    "    p3_pcd.points = o3d.utility.Vector3dVector(concate_pc)\n",
    "    p3_pcd.colors = o3d.utility.Vector3dVector(p3_color)\n",
    "    o3d.visualization.draw_geometries([p3_pcd],window_name = windowname)"
   ]
  },
  {
   "cell_type": "markdown",
   "id": "c0ff8818",
   "metadata": {},
   "source": [
    "## Import Excel File"
   ]
  },
  {
   "cell_type": "code",
   "execution_count": 11,
   "id": "2deceab2",
   "metadata": {},
   "outputs": [],
   "source": [
    "arteries_sheet = pd.read_excel('C:\\\\Users\\\\Cassidy.Northway\\\\GitRemoteRepo\\\\FlowTracker.xlsx', sheet_name = 0)\n",
    "veins_sheet = pd.read_excel('C:\\\\Users\\\\Cassidy.Northway\\\\GitRemoteRepo\\\\FlowTracker.xlsx', sheet_name = 1)"
   ]
  },
  {
   "cell_type": "markdown",
   "id": "e460f317",
   "metadata": {},
   "source": [
    "We will need to pass the vessel name when this is a function but for now we will us arteries_lleg5 flowing with lleg_2 branching off it\n",
    "\n"
   ]
  },
  {
   "cell_type": "code",
   "execution_count": 12,
   "id": "176ed098",
   "metadata": {},
   "outputs": [],
   "source": [
    "vessel_file_name = 'arteries_lleg5'"
   ]
  },
  {
   "cell_type": "code",
   "execution_count": 13,
   "id": "9d7f42f1",
   "metadata": {},
   "outputs": [],
   "source": [
    "#Is it an artery or vein?\n",
    "if 'art' or 'aorta' in vessel_file_name:\n",
    "    sheet = arteries_sheet\n",
    "else: \n",
    "    sheet = veins_sheet"
   ]
  },
  {
   "cell_type": "code",
   "execution_count": 20,
   "id": "777dfd6f",
   "metadata": {},
   "outputs": [
    {
     "name": "stdout",
     "output_type": "stream",
     "text": [
      "['arteries_lleg2']\n"
     ]
    }
   ],
   "source": [
    "#Find the associated row of the vessel within the sheet\n",
    "vessel_row = sheet[sheet['Filename'].str.match(vessel_file_name)].index.values[0]\n",
    "\n",
    "#Check for end condition\n",
    "end_point = sheet.at[sheet.index[vessel_row],'End Point']\n",
    "\n",
    "#Parse meaning\n",
    "if pd.isna(end_point):\n",
    "    end_condition = 'tree'\n",
    "elif ',' in end_point:\n",
    "    end_condition = 'split'\n",
    "else:\n",
    "    end_condition = 'continous'\n",
    "    \n",
    "#Determine if any vessels branch off at any point\n",
    "out_flow = sheet.at[sheet.index[vessel_row],'Out Flow']\n",
    "\n",
    "if pd.isna(out_flow):\n",
    "    branch = 'none'\n",
    "else:\n",
    "    branch = out_flow.split(',')\n",
    "\n"
   ]
  },
  {
   "cell_type": "markdown",
   "id": "1133806d",
   "metadata": {},
   "source": [
    "## Deal with branches"
   ]
  },
  {
   "cell_type": "code",
   "execution_count": 81,
   "id": "9f179f59",
   "metadata": {},
   "outputs": [
    {
     "name": "stdout",
     "output_type": "stream",
     "text": [
      "Total Distance of vessel 40.858028919137254 unit\n",
      "[162]\n"
     ]
    }
   ],
   "source": [
    "#Find the nearest points for \n",
    "if branch != 'none':\n",
    "    \n",
    "    #Find the file names of the main and branches\n",
    "    main_branch_filename = vessel_file_name + '_fitted_data.npy'\n",
    "    branch_filenames = []\n",
    "    distance_of_split = []\n",
    "    \n",
    "    for i in range(0,len(branch)):\n",
    "        branch_name = branch[i]\n",
    "        vessel_row = sheet[sheet['Anatomy Name'].str.match(branch_name)].index.values[0]\n",
    "        branch_filename = sheet.at[sheet.index[vessel_row],'Filename']\n",
    "        branch_filename = branch_filename + '_fitted_data.npy'\n",
    "        branch_filenames.append(branch_filename)\n",
    "        \n",
    "    #Now we import all of the vessel file \n",
    "    main_branch_array = np.load('C:\\\\Users\\\\Cassidy.Northway\\\\GitRemoteRepo\\\\FittedVesselsFiles\\\\' + main_branch_filename)\n",
    "    \n",
    "    for i in range(0,len(branch)):\n",
    "        branch_filename = branch_filenames[i]\n",
    "        \n",
    "        branch_array = np.load('C:\\\\Users\\\\Cassidy.Northway\\\\GitRemoteRepo\\\\FittedVesselsFiles\\\\' + branch_filename)\n",
    "        \n",
    "    #Find the nearest points\n",
    "        dist_array = scipy.spatial.distance.cdist(main_branch_array[:,0:3],branch_array[:,0:3])\n",
    "        dist_array = dist_array[:,0]\n",
    "        \n",
    "        index = np.where (np.min(dist_array) == dist_array)[0]\n",
    "        \n",
    "        \n",
    "        #Find the distance along the main vessel axis that this split occurs\n",
    "        distance = 0\n",
    "        \n",
    "\n",
    "        for j in range(0,index[0]-1):\n",
    "            dist = np.linalg.norm(main_branch_array[i,0:3] - main_branch_array[i+1,0:3])\n",
    "            distance = distance + dist\n",
    "        distance_of_split.append(distance)   \n",
    "        \n",
    "else:\n",
    "    distance_of_split = []\n"
   ]
  },
  {
   "cell_type": "code",
   "execution_count": null,
   "id": "30b31674",
   "metadata": {},
   "outputs": [],
   "source": []
  },
  {
   "cell_type": "code",
   "execution_count": 42,
   "id": "18e204b6",
   "metadata": {},
   "outputs": [
    {
     "name": "stdout",
     "output_type": "stream",
     "text": [
      "[[ 1.07844612e+02 -2.60245361e+01 -1.54576958e+02  9.42160305e-01]\n",
      " [ 1.08029533e+02 -2.59296854e+01 -1.54722594e+02  9.42159863e-01]\n",
      " [ 1.08303069e+02 -2.57906309e+01 -1.54939086e+02  9.42158978e-01]\n",
      " [ 1.08649090e+02 -2.56148350e+01 -1.55213037e+02  9.42157683e-01]\n",
      " [ 1.09051467e+02 -2.54097601e+01 -1.55531053e+02  9.42155985e-01]\n",
      " [ 1.09494069e+02 -2.51828686e+01 -1.55879741e+02  9.42153884e-01]\n",
      " [ 1.09960767e+02 -2.49416231e+01 -1.56245705e+02  9.42151383e-01]\n",
      " [ 1.10435432e+02 -2.46934858e+01 -1.56615551e+02  9.42148484e-01]\n",
      " [ 1.10901933e+02 -2.44459193e+01 -1.56975885e+02  9.42145218e-01]\n",
      " [ 1.11344140e+02 -2.42063860e+01 -1.57313312e+02  9.42141589e-01]\n",
      " [ 1.11344140e+02 -2.42063860e+01 -1.57313312e+02  9.42137594e-01]\n",
      " [ 1.11870201e+02 -2.39166396e+01 -1.57702565e+02  9.42133235e-01]\n",
      " [ 1.12424334e+02 -2.36089472e+01 -1.58098796e+02  9.42128512e-01]\n",
      " [ 1.12998230e+02 -2.32873269e+01 -1.58501306e+02  9.42123422e-01]\n",
      " [ 1.13583582e+02 -2.29557969e+01 -1.58909398e+02  9.42117968e-01]\n",
      " [ 1.14172079e+02 -2.26183752e+01 -1.59322375e+02  9.42112151e-01]\n",
      " [ 1.14755414e+02 -2.22790801e+01 -1.59739539e+02  9.42105973e-01]\n",
      " [ 1.15325277e+02 -2.19419297e+01 -1.60160193e+02  9.42099434e-01]\n",
      " [ 1.15873360e+02 -2.16109422e+01 -1.60583640e+02  9.42092539e-01]\n",
      " [ 1.16391354e+02 -2.12901357e+01 -1.61009182e+02  9.42085288e-01]\n",
      " [ 1.16836816e+02 -2.10070625e+01 -1.61399456e+02  9.42077684e-01]\n",
      " [ 1.17265906e+02 -2.07283411e+01 -1.61794703e+02  9.42069728e-01]\n",
      " [ 1.17681249e+02 -2.04526812e+01 -1.62193878e+02  9.42061423e-01]\n",
      " [ 1.18085467e+02 -2.01787922e+01 -1.62595935e+02  9.42052770e-01]\n",
      " [ 1.18481184e+02 -1.99053839e+01 -1.62999827e+02  9.42043773e-01]\n",
      " [ 1.18871024e+02 -1.96311659e+01 -1.63404510e+02  9.42034431e-01]\n",
      " [ 1.19257610e+02 -1.93548479e+01 -1.63808937e+02  9.42024748e-01]\n",
      " [ 1.19643566e+02 -1.90751393e+01 -1.64212062e+02  9.42014708e-01]\n",
      " [ 1.20031514e+02 -1.87907499e+01 -1.64612839e+02  9.42004306e-01]\n",
      " [ 1.20031514e+02 -1.87907499e+01 -1.64612839e+02  9.41993538e-01]\n",
      " [ 1.20435134e+02 -1.84880774e+01 -1.65029885e+02  9.41982403e-01]\n",
      " [ 1.20868750e+02 -1.81542029e+01 -1.65483883e+02  9.41970901e-01]\n",
      " [ 1.21315792e+02 -1.78037133e+01 -1.65956233e+02  9.41959035e-01]\n",
      " [ 1.21759692e+02 -1.74511955e+01 -1.66428336e+02  9.41946795e-01]\n",
      " [ 1.22183879e+02 -1.71112361e+01 -1.66881593e+02  9.41934199e-01]\n",
      " [ 1.22571786e+02 -1.67984221e+01 -1.67297403e+02  9.41921243e-01]\n",
      " [ 1.22906841e+02 -1.65273401e+01 -1.67657168e+02  9.41907968e-01]\n",
      " [ 1.23172477e+02 -1.63125772e+01 -1.67942288e+02  9.41894400e-01]\n",
      " [ 1.23352123e+02 -1.61687200e+01 -1.68134165e+02  9.41880543e-01]\n",
      " [ 1.23352123e+02 -1.61687200e+01 -1.68134165e+02  9.41866400e-01]\n",
      " [ 1.23498233e+02 -1.60456294e+01 -1.68326220e+02  9.41851962e-01]\n",
      " [ 1.23726310e+02 -1.58519895e+01 -1.68619958e+02  9.41837231e-01]\n",
      " [ 1.24018385e+02 -1.56039378e+01 -1.68995805e+02  9.41822227e-01]\n",
      " [ 1.24356488e+02 -1.53176116e+01 -1.69434186e+02  9.41806939e-01]\n",
      " [ 1.24722649e+02 -1.50091482e+01 -1.69915528e+02  9.41791371e-01]\n",
      " [ 1.25098897e+02 -1.46946851e+01 -1.70420256e+02  9.41775541e-01]\n",
      " [ 1.25467263e+02 -1.43903595e+01 -1.70928796e+02  9.41759458e-01]\n",
      " [ 1.25809776e+02 -1.41123089e+01 -1.71421575e+02  9.41743126e-01]\n",
      " [ 1.26108467e+02 -1.38766706e+01 -1.71879017e+02  9.41726551e-01]\n",
      " [ 1.26353760e+02 -1.36902818e+01 -1.72283653e+02  9.41709737e-01]\n",
      " [ 1.26588097e+02 -1.35176958e+01 -1.72692572e+02  9.41692687e-01]\n",
      " [ 1.26813556e+02 -1.33563824e+01 -1.73105276e+02  9.41675406e-01]\n",
      " [ 1.27032217e+02 -1.32038111e+01 -1.73521267e+02  9.41657911e-01]\n",
      " [ 1.27246161e+02 -1.30574519e+01 -1.73940048e+02  9.41640192e-01]\n",
      " [ 1.27457467e+02 -1.29147743e+01 -1.74361122e+02  9.41622253e-01]\n",
      " [ 1.27668214e+02 -1.27732480e+01 -1.74783991e+02  9.41604075e-01]\n",
      " [ 1.27880482e+02 -1.26303429e+01 -1.75208157e+02  9.41585785e-01]\n",
      " [ 1.28096351e+02 -1.24835286e+01 -1.75633124e+02  9.41567393e-01]\n",
      " [ 1.28311619e+02 -1.23382401e+01 -1.76071064e+02  9.41548905e-01]\n",
      " [ 1.28516497e+02 -1.22035764e+01 -1.76517662e+02  9.41530322e-01]\n",
      " [ 1.28715889e+02 -1.20748205e+01 -1.76969516e+02  9.41511641e-01]\n",
      " [ 1.28914704e+02 -1.19472558e+01 -1.77423228e+02  9.41492854e-01]\n",
      " [ 1.29117848e+02 -1.18161654e+01 -1.77875396e+02  9.41473954e-01]\n",
      " [ 1.29330227e+02 -1.16768326e+01 -1.78322622e+02  9.41454924e-01]\n",
      " [ 1.29556748e+02 -1.15245406e+01 -1.78761505e+02  9.41435748e-01]\n",
      " [ 1.29802317e+02 -1.13545726e+01 -1.79188645e+02  9.41416384e-01]\n",
      " [ 1.30071842e+02 -1.11622119e+01 -1.79600642e+02  9.41396792e-01]\n",
      " [ 1.30071842e+02 -1.11622119e+01 -1.79600642e+02  9.41376957e-01]\n",
      " [ 1.30432255e+02 -1.08968375e+01 -1.80069286e+02  9.41356868e-01]\n",
      " [ 1.30863595e+02 -1.05728427e+01 -1.80563003e+02  9.41336518e-01]\n",
      " [ 1.31339209e+02 -1.02114632e+01 -1.81064060e+02  9.41315907e-01]\n",
      " [ 1.31832447e+02 -9.83393508e+00 -1.81554720e+02  9.41295037e-01]\n",
      " [ 1.32316654e+02 -9.46149401e+00 -1.82017249e+02  9.41273913e-01]\n",
      " [ 1.32765180e+02 -9.11537588e+00 -1.82433911e+02  9.41252547e-01]\n",
      " [ 1.33151373e+02 -8.81681653e+00 -1.82786972e+02  9.41230954e-01]\n",
      " [ 1.33448580e+02 -8.58705180e+00 -1.83058696e+02  9.41209254e-01]\n",
      " [ 1.33630150e+02 -8.44731753e+00 -1.83231348e+02  9.41187428e-01]\n",
      " [ 1.33630150e+02 -8.44731753e+00 -1.83231348e+02  9.41165481e-01]\n",
      " [ 1.33821372e+02 -8.30586613e+00 -1.83424950e+02  9.41143420e-01]\n",
      " [ 1.34124564e+02 -8.08845661e+00 -1.83730091e+02  9.41121241e-01]\n",
      " [ 1.34515900e+02 -7.80801539e+00 -1.84123897e+02  9.41098950e-01]\n",
      " [ 1.34971556e+02 -7.47746887e+00 -1.84583495e+02  9.41076536e-01]\n",
      " [ 1.35467708e+02 -7.10974347e+00 -1.85086011e+02  9.41054024e-01]\n",
      " [ 1.35980531e+02 -6.71776558e+00 -1.85608572e+02  9.41031421e-01]\n",
      " [ 1.36486200e+02 -6.31446162e+00 -1.86128304e+02  9.41008745e-01]\n",
      " [ 1.36960892e+02 -5.91275800e+00 -1.86622333e+02  9.40986011e-01]\n",
      " [ 1.37380780e+02 -5.52558112e+00 -1.87067787e+02  9.40963233e-01]\n",
      " [ 1.37763269e+02 -5.13944191e+00 -1.87480676e+02  9.40940412e-01]\n",
      " [ 1.38137073e+02 -4.73833152e+00 -1.87887797e+02  9.40917552e-01]\n",
      " [ 1.38502911e+02 -4.32399789e+00 -1.88290602e+02  9.40894661e-01]\n",
      " [ 1.38861501e+02 -3.89818896e+00 -1.88690541e+02  9.40871747e-01]\n",
      " [ 1.39213561e+02 -3.46265268e+00 -1.89089064e+02  9.40848814e-01]\n",
      " [ 1.39559811e+02 -3.01913698e+00 -1.89487622e+02  9.40825871e-01]\n",
      " [ 1.39900969e+02 -2.56938983e+00 -1.89887665e+02  9.40802924e-01]\n",
      " [ 1.40237754e+02 -2.11515915e+00 -1.90290645e+02  9.40779987e-01]\n",
      " [ 1.40570883e+02 -1.65819290e+00 -1.90698011e+02  9.40757111e-01]\n",
      " [ 1.40570883e+02 -1.65819290e+00 -1.90698011e+02  9.40734306e-01]\n",
      " [ 1.40836434e+02  4.55753685e+01 -1.97229109e+02  9.40711572e-01]\n",
      " [ 1.40884951e+02  4.53433666e+01 -1.97292843e+02  9.40688917e-01]\n",
      " [ 1.40910843e+02 -1.17933663e+00 -1.91124199e+02  9.40666344e-01]\n",
      " [ 1.40949587e+02  4.50106518e+01 -1.97387064e+02  9.40643854e-01]\n",
      " [ 1.41029568e+02  4.45957761e+01 -1.97504902e+02  9.40621449e-01]\n",
      " [ 1.41124123e+02  4.41172920e+01 -1.97639489e+02  9.40599132e-01]\n",
      " [ 1.41232480e+02  4.35937516e+01 -1.97783957e+02  9.40576900e-01]\n",
      " [ 1.41245239e+02 -6.90393548e-01 -1.91554187e+02  9.40554737e-01]\n",
      " [ 1.41353867e+02  4.30437072e+01 -1.97931435e+02  9.40532649e-01]\n",
      " [ 1.41487512e+02  4.24857110e+01 -1.98075056e+02  9.40510642e-01]\n",
      " [ 1.41574133e+02 -1.93076877e-01 -1.91986870e+02  9.40488722e-01]\n",
      " [ 1.41632643e+02  4.19383154e+01 -1.98207951e+02  9.40466895e-01]\n",
      " [ 1.41788488e+02  4.14200725e+01 -1.98323251e+02  9.40445167e-01]\n",
      " [ 1.41897585e+02  3.10900143e-01 -1.92421140e+02  9.40423547e-01]\n",
      " [ 1.42004078e+02  4.08062794e+01 -1.98444843e+02  9.40402039e-01]\n",
      " [ 1.42215654e+02  8.19824273e-01 -1.92855892e+02  9.40380651e-01]\n",
      " [ 1.42254932e+02  4.01733749e+01 -1.98557933e+02  9.40359387e-01]\n",
      " [ 1.42528401e+02  1.33198228e+00 -1.93290018e+02  9.40338257e-01]\n",
      " [ 1.42532423e+02  3.95250735e+01 -1.98663938e+02  9.40317264e-01]\n",
      " [ 1.42827923e+02  3.88650894e+01 -1.98764276e+02  9.40296417e-01]\n",
      " [ 1.42835886e+02  1.84566092e+00 -1.93722413e+02  9.40275721e-01]\n",
      " [ 1.43132806e+02  3.81971371e+01 -1.98860364e+02  9.40255182e-01]\n",
      " [ 1.43138169e+02  2.35914696e+00 -1.94151970e+02  9.40234806e-01]\n",
      " [ 1.43435310e+02  2.87072716e+00 -1.94577583e+02  9.40214600e-01]\n",
      " [ 1.43435310e+02  2.87072716e+00 -1.94577583e+02  9.40194570e-01]\n",
      " [ 1.43438442e+02  3.75249308e+01 -1.98953619e+02  9.40174720e-01]\n",
      " [ 1.43734270e+02  3.40072264e+00 -1.95013916e+02  9.40155089e-01]\n",
      " [ 1.43736205e+02  3.68521849e+01 -1.99045460e+02  9.40135684e-01]\n",
      " [ 1.44017467e+02  3.61826137e+01 -1.99137303e+02  9.40116508e-01]\n",
      " [ 1.44049640e+02  3.98022203e+00 -1.95485392e+02  9.40097568e-01]\n",
      " [ 1.44273600e+02  3.55199316e+01 -1.99230568e+02  9.40078868e-01]\n",
      " [ 1.44273600e+02  3.55199316e+01 -1.99230568e+02  9.40060414e-01]\n",
      " [ 1.44370715e+02  4.58519595e+00 -1.95973617e+02  9.40042211e-01]\n",
      " [ 1.44514261e+02  3.48358339e+01 -1.99326989e+02  9.40024261e-01]\n",
      " [ 1.44686790e+02  5.19161501e+00 -1.96460196e+02  9.40006573e-01]\n",
      " [ 1.44763582e+02  3.40835872e+01 -1.99430185e+02  9.39989120e-01]\n",
      " [ 1.44987158e+02  5.77544983e+00 -1.96926736e+02  9.39971901e-01]\n",
      " [ 1.45013523e+02  3.32970116e+01 -1.99536102e+02  9.39954922e-01]\n",
      " [ 1.45256045e+02  3.25099276e+01 -1.99640685e+02  9.39938188e-01]\n",
      " [ 1.45261114e+02  6.31267102e+00 -1.97354842e+02  9.39921704e-01]\n",
      " [ 1.45483108e+02  3.17561554e+01 -1.99739882e+02  9.39905470e-01]\n",
      " [ 1.45497951e+02  6.77924919e+00 -1.97726119e+02  9.39889494e-01]\n",
      " [ 1.45686672e+02  3.10695152e+01 -1.99829638e+02  9.39873785e-01]\n",
      " [ 1.45686964e+02  7.15115497e+00 -1.98022175e+02  9.39858348e-01]\n",
      " [ 1.45817447e+02  7.40435896e+00 -1.98224614e+02  9.39843189e-01]\n",
      " [ 1.45817447e+02  7.40435896e+00 -1.98224614e+02  9.39828317e-01]\n",
      " [ 1.45858698e+02  3.04838274e+01 -1.99905900e+02  9.39813736e-01]\n",
      " [ 1.45901550e+02  7.68223261e+00 -1.98275782e+02  9.39799444e-01]\n",
      " [ 1.45991146e+02  3.00329122e+01 -1.99964616e+02  9.39785446e-01]\n",
      " [ 1.46032561e+02  8.13669219e+00 -1.98356981e+02  9.39771752e-01]\n",
      " [ 1.46075977e+02  2.97505899e+01 -2.00001730e+02  9.39758367e-01]\n",
      " [ 1.46200166e+02  2.94859057e+01 -2.00044886e+02  9.39745294e-01]\n",
      " [ 1.46203950e+02  8.73074522e+00 -1.98463172e+02  9.39732538e-01]\n",
      " [ 1.46409185e+02  9.42739918e+00 -1.98589318e+02  9.39720103e-01]\n",
      " [ 1.46415818e+02  2.90323675e+01 -2.00122744e+02  9.39707993e-01]\n",
      " [ 1.46641736e+02  1.01896616e+01 -1.98730384e+02  9.39696212e-01]\n",
      " [ 1.46702915e+02  2.84279492e+01 -2.00226098e+02  9.39684763e-01]\n",
      " [ 1.46895072e+02  1.09805399e+01 -1.98881331e+02  9.39673643e-01]\n",
      " [ 1.47041440e+02  2.77106246e+01 -2.00345740e+02  9.39662863e-01]\n",
      " [ 1.47162662e+02  1.17630416e+01 -1.99037122e+02  9.39652417e-01]\n",
      " [ 1.47411377e+02  2.69183677e+01 -2.00472463e+02  9.39642318e-01]\n",
      " [ 1.47437977e+02  1.25001742e+01 -1.99192722e+02  9.39632568e-01]\n",
      " [ 1.47714484e+02  1.31549453e+01 -1.99343092e+02  9.39623191e-01]\n",
      " [ 1.47714484e+02  1.31549453e+01 -1.99343092e+02  9.39614170e-01]\n",
      " [ 1.47792707e+02  2.60891523e+01 -2.00597060e+02  9.39605508e-01]\n",
      " [ 1.48027986e+02  1.37402334e+01 -1.99500633e+02  9.39597212e-01]\n",
      " [ 1.48165414e+02  2.52609524e+01 -2.00710324e+02  9.39589271e-01]\n",
      " [ 1.48406150e+02  1.43067035e+01 -1.99678313e+02  9.39581699e-01]\n",
      " [ 1.48509480e+02  2.44717417e+01 -2.00803047e+02  9.39574500e-01]\n",
      " [ 1.48804890e+02  2.37594943e+01 -2.00866023e+02  9.39567660e-01]\n",
      " [ 1.48804890e+02  2.37594943e+01 -2.00866023e+02  9.39561182e-01]\n",
      " [ 1.48823659e+02  1.48596428e+01 -1.99868446e+02  9.39555067e-01]\n",
      " [ 1.49073592e+02  2.31340751e+01 -2.00906863e+02  9.39549332e-01]\n",
      " [ 1.49255196e+02  1.54043388e+01 -2.00063346e+02  9.39543976e-01]\n",
      " [ 1.49369699e+02  2.25052170e+01 -2.00942793e+02  9.39538988e-01]\n",
      " [ 1.49675443e+02  1.59460787e+01 -2.00255329e+02  9.39534382e-01]\n",
      " [ 1.49675679e+02  2.18750903e+01 -2.00971236e+02  9.39530160e-01]\n",
      " [ 1.49974002e+02  2.12458653e+01 -2.00989615e+02  9.39526308e-01]\n",
      " [ 1.50059083e+02  1.64901500e+01 -2.00436708e+02  9.39522842e-01]\n",
      " [ 1.50247137e+02  2.06197122e+01 -2.00995354e+02  9.39519761e-01]\n",
      " [ 1.50380799e+02  1.70418399e+01 -2.00599799e+02  9.39517066e-01]\n",
      " [ 1.50477554e+02  1.99988013e+01 -2.00985877e+02  9.39514757e-01]\n",
      " [ 1.50615274e+02  1.76064358e+01 -2.00736917e+02  9.39512835e-01]\n",
      " [ 1.50647722e+02  1.93853029e+01 -2.00958605e+02  9.39511300e-01]\n",
      " [ 1.50737191e+02  1.81892250e+01 -2.00840374e+02  9.39510139e-01]\n",
      " [ 1.50737191e+02  1.81892250e+01 -2.00840374e+02  9.39509366e-01]\n",
      " [ 1.50740111e+02  1.87813874e+01 -2.00910963e+02  9.39508979e-01]]\n"
     ]
    }
   ],
   "source": []
  },
  {
   "cell_type": "code",
   "execution_count": null,
   "id": "2f95040b",
   "metadata": {},
   "outputs": [],
   "source": []
  }
 ],
 "metadata": {
  "kernelspec": {
   "display_name": "Python 3 (ipykernel)",
   "language": "python",
   "name": "python3"
  },
  "language_info": {
   "codemirror_mode": {
    "name": "ipython",
    "version": 3
   },
   "file_extension": ".py",
   "mimetype": "text/x-python",
   "name": "python",
   "nbconvert_exporter": "python",
   "pygments_lexer": "ipython3",
   "version": "3.10.9"
  }
 },
 "nbformat": 4,
 "nbformat_minor": 5
}
