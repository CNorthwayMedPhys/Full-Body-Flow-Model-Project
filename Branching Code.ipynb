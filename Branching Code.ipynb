{
 "cells": [
  {
   "cell_type": "markdown",
   "id": "51880f47",
   "metadata": {},
   "source": [
    "The purpose of this function is to take a vessel and determine at which axial distance at which another vessel branches off.\n",
    "Additionally it needs to check to see what the terminus condition of the vessel is and then create the appropriate ending conditions for it whether that be flowing directly into another vessel (continous), branching into multiple vessels (split) or no end condition in which case we will need to apply the 0D end condition (tree). "
   ]
  },
  {
   "cell_type": "markdown",
   "id": "066a4e41",
   "metadata": {},
   "source": [
    "Our first necessary step will be to import the excel file which contains all of the file names and the links between them"
   ]
  },
  {
   "cell_type": "code",
   "execution_count": 8,
   "id": "258464c5",
   "metadata": {},
   "outputs": [
    {
     "name": "stdout",
     "output_type": "stream",
     "text": [
      "Requirement already satisfied: pandas in c:\\users\\cassidy.northway\\appdata\\local\\anaconda3\\lib\\site-packages (1.5.3)\n",
      "Requirement already satisfied: python-dateutil>=2.8.1 in c:\\users\\cassidy.northway\\appdata\\local\\anaconda3\\lib\\site-packages (from pandas) (2.8.2)\n",
      "Requirement already satisfied: pytz>=2020.1 in c:\\users\\cassidy.northway\\appdata\\local\\anaconda3\\lib\\site-packages (from pandas) (2022.7)\n",
      "Requirement already satisfied: numpy>=1.21.0 in c:\\users\\cassidy.northway\\appdata\\local\\anaconda3\\lib\\site-packages (from pandas) (1.23.5)\n",
      "Requirement already satisfied: six>=1.5 in c:\\users\\cassidy.northway\\appdata\\local\\anaconda3\\lib\\site-packages (from python-dateutil>=2.8.1->pandas) (1.16.0)\n"
     ]
    }
   ],
   "source": [
    "#Install \n",
    "#!pip install pandas"
   ]
  },
  {
   "cell_type": "code",
   "execution_count": 2,
   "id": "ea34631d",
   "metadata": {},
   "outputs": [
    {
     "name": "stdout",
     "output_type": "stream",
     "text": [
      "Jupyter environment detected. Enabling Open3D WebVisualizer.\n",
      "[Open3D INFO] WebRTC GUI backend enabled.\n",
      "[Open3D INFO] WebRTCWindowSystem: HTTP handshake server disabled.\n"
     ]
    }
   ],
   "source": [
    "#Import\n",
    "import pandas as pd\n",
    "import numpy as np\n",
    "import scipy\n",
    "import open3d as o3d"
   ]
  },
  {
   "cell_type": "code",
   "execution_count": 48,
   "id": "b3317c02",
   "metadata": {},
   "outputs": [],
   "source": [
    "#Display two point cloud with different colours in one o3d window\n",
    "def display_two_pointclouds(array_1,array_2,windowname):\n",
    "    p1_pcd = o3d.geometry.PointCloud()\n",
    "    p1_pcd.points = o3d.utility.Vector3dVector(array_1)\n",
    "    p1_pcd.paint_uniform_color([1, 0.706, 0])\n",
    "\n",
    "\n",
    "    p2_pcd = o3d.geometry.PointCloud()\n",
    "    p2_pcd.points = o3d.utility.Vector3dVector(array_2)\n",
    "    p2_pcd.paint_uniform_color([0, 0.706, 1])\n",
    "\n",
    "    concate_pc = np.concatenate((array_1, array_2),axis = 0)\n",
    "    p1_color = np.asarray(p1_pcd.colors)\n",
    "    p2_color = np.asarray(p2_pcd.colors)\n",
    "    p3_color = np.concatenate((p1_color,p2_color), axis=0)\n",
    "\n",
    "    p3_pcd = o3d.geometry.PointCloud()\n",
    "    p3_pcd.points = o3d.utility.Vector3dVector(concate_pc)\n",
    "    p3_pcd.colors = o3d.utility.Vector3dVector(p3_color)\n",
    "    o3d.visualization.draw_geometries([p3_pcd],window_name = windowname)"
   ]
  },
  {
   "cell_type": "markdown",
   "id": "c0ff8818",
   "metadata": {},
   "source": [
    "## Import Excel File"
   ]
  },
  {
   "cell_type": "code",
   "execution_count": 11,
   "id": "2deceab2",
   "metadata": {},
   "outputs": [],
   "source": [
    "arteries_sheet = pd.read_excel('C:\\\\Users\\\\Cassidy.Northway\\\\GitRemoteRepo\\\\FlowTracker.xlsx', sheet_name = 0)\n",
    "veins_sheet = pd.read_excel('C:\\\\Users\\\\Cassidy.Northway\\\\GitRemoteRepo\\\\FlowTracker.xlsx', sheet_name = 1)"
   ]
  },
  {
   "cell_type": "markdown",
   "id": "e460f317",
   "metadata": {},
   "source": [
    "We will need to pass the vessel name when this is a function but for now we will us arteries_lleg5 flowing with lleg_2 branching off it\n",
    "\n"
   ]
  },
  {
   "cell_type": "code",
   "execution_count": 12,
   "id": "176ed098",
   "metadata": {},
   "outputs": [],
   "source": [
    "vessel_file_name = 'arteries_lleg5'"
   ]
  },
  {
   "cell_type": "code",
   "execution_count": 13,
   "id": "9d7f42f1",
   "metadata": {},
   "outputs": [],
   "source": [
    "#Is it an artery or vein?\n",
    "if 'art' or 'aorta' in vessel_file_name:\n",
    "    sheet = arteries_sheet\n",
    "else: \n",
    "    sheet = veins_sheet"
   ]
  },
  {
   "cell_type": "code",
   "execution_count": 20,
   "id": "777dfd6f",
   "metadata": {},
   "outputs": [
    {
     "name": "stdout",
     "output_type": "stream",
     "text": [
      "['arteries_lleg2']\n"
     ]
    }
   ],
   "source": [
    "#Find the associated row of the vessel within the sheet\n",
    "vessel_row = sheet[sheet['Filename'].str.match(vessel_file_name)].index.values[0]\n",
    "\n",
    "#Check for end condition\n",
    "end_point = sheet.at[sheet.index[vessel_row],'End Point']\n",
    "\n",
    "#Parse meaning\n",
    "if pd.isna(end_point):\n",
    "    end_condition = 'tree'\n",
    "elif ',' in end_point:\n",
    "    end_condition = 'split'\n",
    "else:\n",
    "    end_condition = 'continous'\n",
    "    \n",
    "#Determine if any vessels branch off at any point\n",
    "out_flow = sheet.at[sheet.index[vessel_row],'Out Flow']\n",
    "\n",
    "if pd.isna(out_flow):\n",
    "    branch = 'none'\n",
    "else:\n",
    "    branch = out_flow.split(',')\n",
    "\n"
   ]
  },
  {
   "cell_type": "markdown",
   "id": "1133806d",
   "metadata": {},
   "source": [
    "## Deal with branches"
   ]
  },
  {
   "cell_type": "code",
   "execution_count": 4,
   "id": "9f179f59",
   "metadata": {},
   "outputs": [
    {
     "ename": "SyntaxError",
     "evalue": "invalid syntax (2530381717.py, line 9)",
     "output_type": "error",
     "traceback": [
      "\u001b[1;36m  Cell \u001b[1;32mIn[4], line 9\u001b[1;36m\u001b[0m\n\u001b[1;33m    for i in range(540:553):#range(0,len(branch)):\u001b[0m\n\u001b[1;37m                      ^\u001b[0m\n\u001b[1;31mSyntaxError\u001b[0m\u001b[1;31m:\u001b[0m invalid syntax\n"
     ]
    }
   ],
   "source": [
    "#Find the nearest points for \n",
    "if branch != 'none':\n",
    "    \n",
    "    #Find the file names of the main and branches\n",
    "    main_branch_filename = vessel_file_name + '_fitted_data.npy'\n",
    "    branch_filenames = []\n",
    "    distance_of_split = []\n",
    "    \n",
    "    for i in range(0,len(branch)):\n",
    "        branch_name = branch[i]\n",
    "        vessel_row = sheet[sheet['Anatomy Name'].str.match(branch_name)].index.values[0]\n",
    "        branch_filename = sheet.at[sheet.index[vessel_row],'Filename']\n",
    "        branch_filename = branch_filename + '_fitted_data.npy'\n",
    "        branch_filenames.append(branch_filename)\n",
    "        \n",
    "    #Now we import all of the vessel file \n",
    "    main_branch_array = np.load('C:\\\\Users\\\\Cassidy.Northway\\\\GitRemoteRepo\\\\FittedVesselsFiles\\\\' + main_branch_filename)\n",
    "    \n",
    "    for i in range(0,len(branch)):\n",
    "        branch_filename = branch_filenames[i]\n",
    "        \n",
    "        branch_array = np.load('C:\\\\Users\\\\Cassidy.Northway\\\\GitRemoteRepo\\\\FittedVesselsFiles\\\\' + branch_filename)\n",
    "        \n",
    "    #Find the nearest points\n",
    "        dist_array = scipy.spatial.distance.cdist(main_branch_array[:,0:3],branch_array[:,0:3])\n",
    "        dist_array = dist_array[:,0]\n",
    "        \n",
    "        index = np.where (np.min(dist_array) == dist_array)[0]\n",
    "        \n",
    "        \n",
    "        #Find the distance along the main vessel axis that this split occurs\n",
    "        distance = 0\n",
    "        \n",
    "\n",
    "        for j in range(0,index[0]-1):\n",
    "            dist = np.linalg.norm(main_branch_array[i,0:3] - main_branch_array[i+1,0:3])\n",
    "            distance = distance + dist\n",
    "        distance_of_split.append(distance)   \n",
    "        \n",
    "else:\n",
    "    distance_of_split = []\n"
   ]
  },
  {
   "cell_type": "markdown",
   "id": "27eeca96",
   "metadata": {},
   "source": [
    "# Convert Existing Excel Document into a segmented vessel array data frame for calculation purposes!"
   ]
  },
  {
   "cell_type": "code",
   "execution_count": 3,
   "id": "18e204b6",
   "metadata": {},
   "outputs": [
    {
     "data": {
      "text/html": [
       "<div>\n",
       "<style scoped>\n",
       "    .dataframe tbody tr th:only-of-type {\n",
       "        vertical-align: middle;\n",
       "    }\n",
       "\n",
       "    .dataframe tbody tr th {\n",
       "        vertical-align: top;\n",
       "    }\n",
       "\n",
       "    .dataframe thead th {\n",
       "        text-align: right;\n",
       "    }\n",
       "</style>\n",
       "<table border=\"1\" class=\"dataframe\">\n",
       "  <thead>\n",
       "    <tr style=\"text-align: right;\">\n",
       "      <th></th>\n",
       "      <th>Name</th>\n",
       "      <th>Centre Axis Array</th>\n",
       "      <th>Radius Array</th>\n",
       "      <th>End Condition</th>\n",
       "    </tr>\n",
       "  </thead>\n",
       "  <tbody>\n",
       "  </tbody>\n",
       "</table>\n",
       "</div>"
      ],
      "text/plain": [
       "Empty DataFrame\n",
       "Columns: [Name, Centre Axis Array, Radius Array, End Condition]\n",
       "Index: []"
      ]
     },
     "execution_count": 3,
     "metadata": {},
     "output_type": "execute_result"
    }
   ],
   "source": [
    "df = pd.DataFrame(columns=['Name','Centre Axis Array', 'Radius Array','Total Length','End Condition'])\n",
    "\n"
   ]
  },
  {
   "cell_type": "code",
   "execution_count": null,
   "id": "2f95040b",
   "metadata": {},
   "outputs": [],
   "source": []
  }
 ],
 "metadata": {
  "kernelspec": {
   "display_name": "Python 3 (ipykernel)",
   "language": "python",
   "name": "python3"
  },
  "language_info": {
   "codemirror_mode": {
    "name": "ipython",
    "version": 3
   },
   "file_extension": ".py",
   "mimetype": "text/x-python",
   "name": "python",
   "nbconvert_exporter": "python",
   "pygments_lexer": "ipython3",
   "version": "3.8.16"
  }
 },
 "nbformat": 4,
 "nbformat_minor": 5
}
