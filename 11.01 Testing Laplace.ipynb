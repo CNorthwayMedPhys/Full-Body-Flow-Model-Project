{
 "cells": [
  {
   "cell_type": "code",
   "execution_count": null,
   "id": "8fe5c437",
   "metadata": {},
   "outputs": [],
   "source": []
  },
  {
   "cell_type": "code",
   "execution_count": 1,
   "id": "4215fef6",
   "metadata": {},
   "outputs": [
    {
     "name": "stdout",
     "output_type": "stream",
     "text": [
      "Jupyter environment detected. Enabling Open3D WebVisualizer.\n",
      "[Open3D INFO] WebRTC GUI backend enabled.\n",
      "[Open3D INFO] WebRTCWindowSystem: HTTP handshake server disabled.\n"
     ]
    }
   ],
   "source": [
    "import numpy as np\n",
    "import sys\n",
    "import matplotlib.pylab as plt\n",
    "import pandas as pd\n",
    "import open3d as o3d\n",
    "import scipy\n",
    "import math\n",
    "from mpmath import mp\n",
    "import matplotlib.pyplot as plt"
   ]
  },
  {
   "cell_type": "code",
   "execution_count": 2,
   "id": "8d7b35d6",
   "metadata": {},
   "outputs": [],
   "source": [
    "r_root = 0.11\n",
    "dt = 0.025\n",
    "\n",
    "\n",
    "\n",
    "def impedance_weights(r_root,dt):\n",
    "    acc = 1e-10 #numerical accuracy of impedance fcn\n",
    "    N = math.ceil(1/dt)\n",
    "    eta = acc**(1/(2*N))\n",
    "    empty_table = {}\n",
    "    m = np.linspace(0,2*np.pi,(2*N)+1) #actual [0:2N-1] the size of 2N\n",
    "    zeta = eta * np.exp(1j*m)\n",
    "    Xi = 0.5*(zeta**2) - (2*zeta) + (3/2)\n",
    "    [Z_impedance, table] = impedance( Xi/dt, r_root, 0, 0, empty_table)\n",
    "    print('Progress: Impedance calculated')\n",
    "    z_n = np.zeros(N+1, dtype = np.complex_)\n",
    "    weighting = np.concatenate (([1], 2*np.ones(2*N-1),[1]))/ (4 * N) \n",
    "    for n in range (0,N+1): # actual range [0,N]\n",
    "        z_n[n] = ((1/(eta**n))*np.sum(weighting*Z_impedance * np.exp(-1j*n*m)))\n",
    "    print('Progress: z[n] values calculated')\n",
    "    z_n = np.real(z_n)\n",
    "        \n",
    "    plt.plot(z_n)\n",
    "    plt.show()\n",
    "\n",
    "    return z_n\n",
    "    \n",
    "def impedance( s, r_root, N_alpha, N_beta, table):\n",
    "    r_min = 0.0083\n",
    "    alpha = 0.91\n",
    "    beta = 0.58\n",
    "    ZL = np.zeros(np.size(s), dtype = np.complex_)\n",
    "    r_0 = r_root * (alpha ** N_alpha) *(beta ** N_beta)\n",
    "    if r_0 < r_min:\n",
    "        \n",
    "        ZL[:] = 0\n",
    "    else:\n",
    "        try:\n",
    "            ZD1 = table[N_alpha + 1 , N_beta]\n",
    "        except:\n",
    "            [ZD1, table] = impedance( s,r_root,N_alpha+1,N_beta,table)\n",
    "        try:\n",
    "            ZD2 = table[N_alpha, N_beta +1,:]\n",
    "        except:\n",
    "            [ZD2, table] = impedance( s, r_root, N_alpha, N_beta + 1, table)\n",
    "            \n",
    "            \n",
    "       \n",
    "        ZL = (ZD1 * ZD2) / (ZD1 + ZD2)#ZL needs to be an array of values over the s_range size\n",
    "        \n",
    "    Z0 = singleVesselImpedance(ZL,s,r_0)\n",
    "    table[N_alpha,N_beta] = Z0\n",
    "    return [Z0, table]\n",
    "                     \n",
    "def singleVesselImpedance(ZL, s_range, r_0):\n",
    "    gamma = 2 #velocity profile\n",
    "    mu = 0.048 #blood viscosity\n",
    "    lambd = 50 #length/radius ratio\n",
    "    rho = 1.055 #blood density\n",
    "    L = r_0 *lambd\n",
    "    A0 = np.pi * (r_0 ** 2)\n",
    "    Ehr = (2e7 *np.exp( -22.5*r_0) + 8.65e5) #Youngs Modulus * vessel thickness/radius\n",
    "    C = (3/2) *(A0)/(Ehr)#complaince\n",
    "    delta = (2 * mu*(gamma +2))/ (rho *r_0**2)\n",
    "    i = 0\n",
    "    Z0 = np.zeros(np.size(s_range), dtype = np.complex_)\n",
    "    for s in s_range:\n",
    "        if s == 0:\n",
    "            Z0[i] = ZL[i] + (2*(gamma +2)*mu* lambd) / (np.pi * r_0**3)\n",
    "            print('s=0')\n",
    "        else:\n",
    "            d_s = (A0/(C*rho*s*(s+delta)))**(0.5)\n",
    "            num = ZL[i] +np.tanh(L/d_s)/(s*d_s*C)\n",
    "            denom = s*d_s*C*ZL[i]*np.tanh(L/d_s) + 1\n",
    "            Z0[i] = num/denom\n",
    "        i = i + 1\n",
    "    return Z0"
   ]
  },
  {
   "cell_type": "code",
   "execution_count": 4,
   "id": "c733716e",
   "metadata": {},
   "outputs": [
    {
     "name": "stdout",
     "output_type": "stream",
     "text": [
      "Progress: Impedance calculated\n",
      "Progress: z[n] values calculated\n"
     ]
    },
    {
     "data": {
      "image/png": "[encoded data removed]",
      "text/plain": [
       "<Figure size 640x480 with 1 Axes>"
      ]
     },
     "metadata": {},
     "output_type": "display_data"
    },
    {
     "name": "stdout",
     "output_type": "stream",
     "text": [
      "[ 4.68264116e+04  1.58016600e+04  1.33258452e+04  8.02098824e+03\n",
      "  3.61756374e+03  1.24247477e+03  3.18975776e+02  4.31377288e+01\n",
      " -2.69472021e+01 -3.85007330e+01 -2.97580787e+01 -1.67356457e+01\n",
      " -7.46698110e+00 -2.88241505e+00 -1.00679629e+00 -2.62522396e-01\n",
      "  1.35574988e-02  7.53460301e-02  5.89147741e-02  3.28454821e-02\n",
      "  1.60777372e-02  7.25318851e-03  2.80051703e-03  7.69979625e-04\n",
      "  4.70499799e-05 -1.11488929e-04 -1.01785001e-04 -6.61051173e-05\n",
      " -3.64162297e-05 -1.70174984e-05 -6.74198308e-06 -2.06909277e-06\n",
      " -4.07851530e-07 -2.10729330e-07 -3.92709325e-07  4.85269160e-08\n",
      "  1.10099738e-06  1.22490129e-06 -8.53476273e-07 -2.13132753e-07\n",
      "  2.10320650e-07]\n"
     ]
    }
   ],
   "source": [
    "zn = impedance_weights(r_root, dt)\n",
    "print(zn)"
   ]
  },
  {
   "cell_type": "code",
   "execution_count": null,
   "id": "dbcb6129",
   "metadata": {},
   "outputs": [],
   "source": []
  }
 ],
 "metadata": {
  "kernelspec": {
   "display_name": "Python 3 (ipykernel)",
   "language": "python",
   "name": "python3"
  },
  "language_info": {
   "codemirror_mode": {
    "name": "ipython",
    "version": 3
   },
   "file_extension": ".py",
   "mimetype": "text/x-python",
   "name": "python",
   "nbconvert_exporter": "python",
   "pygments_lexer": "ipython3",
   "version": "3.10.9"
  }
 },
 "nbformat": 4,
 "nbformat_minor": 5
}
