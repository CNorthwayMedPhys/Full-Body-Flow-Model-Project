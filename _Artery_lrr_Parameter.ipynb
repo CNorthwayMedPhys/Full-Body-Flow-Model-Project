{
 "cells": [
  {
   "cell_type": "code",
   "execution_count": null,
   "id": "b4b4d68c",
   "metadata": {},
   "outputs": [],
   "source": [
    "#Load in dictionary of arteries"
   ]
  },
  {
   "cell_type": "code",
   "execution_count": null,
   "id": "c7243753",
   "metadata": {},
   "outputs": [],
   "source": [
    "#Load in mirroring chart "
   ]
  },
  {
   "cell_type": "code",
   "execution_count": null,
   "id": "18ebde25",
   "metadata": {},
   "outputs": [],
   "source": [
    "#For each location in mirroring chart (Left side) determine lrr as a function Rd"
   ]
  },
  {
   "cell_type": "code",
   "execution_count": null,
   "id": "f04ffb7a",
   "metadata": {},
   "outputs": [],
   "source": [
    "#Write as a txt file"
   ]
  }
 ],
 "metadata": {
  "kernelspec": {
   "display_name": "Python 3 (ipykernel)",
   "language": "python",
   "name": "python3"
  },
  "language_info": {
   "codemirror_mode": {
    "name": "ipython",
    "version": 3
   },
   "file_extension": ".py",
   "mimetype": "text/x-python",
   "name": "python",
   "nbconvert_exporter": "python",
   "pygments_lexer": "ipython3",
   "version": "3.8.16"
  }
 },
 "nbformat": 4,
 "nbformat_minor": 5
}
