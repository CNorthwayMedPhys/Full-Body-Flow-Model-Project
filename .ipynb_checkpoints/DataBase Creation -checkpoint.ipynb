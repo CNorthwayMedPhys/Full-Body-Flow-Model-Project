{
 "cells": [
  {
   "cell_type": "code",
   "execution_count": 1,
   "id": "cb97f89e",
   "metadata": {},
   "outputs": [],
   "source": [
    "#!pip install openpyxl"
   ]
  },
  {
   "cell_type": "code",
   "execution_count": 2,
   "id": "8159a7a3",
   "metadata": {},
   "outputs": [
    {
     "name": "stdout",
     "output_type": "stream",
     "text": [
      "Jupyter environment detected. Enabling Open3D WebVisualizer.\n",
      "[Open3D INFO] WebRTC GUI backend enabled.\n",
      "[Open3D INFO] WebRTCWindowSystem: HTTP handshake server disabled.\n"
     ]
    }
   ],
   "source": [
    "#Import\n",
    "import pandas as pd\n",
    "import numpy as np\n",
    "import scipy\n",
    "import open3d as o3d"
   ]
  },
  {
   "cell_type": "code",
   "execution_count": 3,
   "id": "4a71b65c",
   "metadata": {},
   "outputs": [],
   "source": [
    "#Display two point cloud with different colours in one o3d window\n",
    "def display_two_pointclouds(array_1,array_2,windowname):\n",
    "    p1_pcd = o3d.geometry.PointCloud()\n",
    "    p1_pcd.points = o3d.utility.Vector3dVector(array_1)\n",
    "    p1_pcd.paint_uniform_color([1, 0.706, 0])\n",
    "\n",
    "\n",
    "    p2_pcd = o3d.geometry.PointCloud()\n",
    "    p2_pcd.points = o3d.utility.Vector3dVector(array_2)\n",
    "    p2_pcd.paint_uniform_color([0, 0.706, 1])\n",
    "\n",
    "    concate_pc = np.concatenate((array_1, array_2),axis = 0)\n",
    "    p1_color = np.asarray(p1_pcd.colors)\n",
    "    p2_color = np.asarray(p2_pcd.colors)\n",
    "    p3_color = np.concatenate((p1_color,p2_color), axis=0)\n",
    "\n",
    "    p3_pcd = o3d.geometry.PointCloud()\n",
    "    p3_pcd.points = o3d.utility.Vector3dVector(concate_pc)\n",
    "    p3_pcd.colors = o3d.utility.Vector3dVector(p3_color)\n",
    "    o3d.visualization.draw_geometries([p3_pcd],window_name = windowname)"
   ]
  },
  {
   "cell_type": "markdown",
   "id": "05fb34be",
   "metadata": {},
   "source": [
    "The purpose of this function is to take a vessel and determine at which axial distance at which another vessel branches off. Additionally it needs to check to see what the terminus condition of the vessel is and then create the appropriate ending conditions for it whether that be flowing directly into another vessel (continous), branching into multiple vessels (split) or no end condition in which case we will need to apply the 0D end condition (tree).\n",
    "\n",
    "Our first necessary step will be to import the excel file which contains all of the file names and the links between them"
   ]
  },
  {
   "cell_type": "code",
   "execution_count": 4,
   "id": "480136e0",
   "metadata": {},
   "outputs": [],
   "source": [
    "#Import Excel Sheets\n",
    "try:\n",
    "    arteries_sheet = pd.read_excel('C:\\\\Users\\\\Cassidy.Northway\\\\GitRemoteRepo\\\\FlowTracker.xlsx', sheet_name = 0)\n",
    "    veins_sheet = pd.read_excel('C:\\\\Users\\\\Cassidy.Northway\\\\GitRemoteRepo\\\\FlowTracker.xlsx', sheet_name = 1)\n",
    "except:\n",
    "    arteries_sheet = pd.read_excel('C:\\\\Users\\\\cbnor\\\\Documents\\\\Full Body Flow Model Project\\\\FlowTracker.xlsx', sheet_name = 0)\n",
    "    veins_sheet = pd.read_excel('C:\\\\Users\\\\cbnor\\\\Documents\\\\Full Body Flow Model Project\\\\FlowTracker.xlsx', sheet_name = 1)\n",
    "    "
   ]
  },
  {
   "cell_type": "code",
   "execution_count": 5,
   "id": "47ab8999",
   "metadata": {},
   "outputs": [],
   "source": [
    "#Select sheet\n",
    "sheet = arteries_sheet\n",
    "#sheet = veins_sheet"
   ]
  },
  {
   "cell_type": "code",
   "execution_count": 6,
   "id": "1ab42169",
   "metadata": {},
   "outputs": [],
   "source": [
    "#Define our data frame\n",
    "df = pd.DataFrame(columns=['Name','Centre Axis Array', 'Radius Array','End Condition'])\n"
   ]
  },
  {
   "cell_type": "code",
   "execution_count": null,
   "id": "82e82f5c",
   "metadata": {},
   "outputs": [],
   "source": [
    "#Now we need to define our \n",
    "location = 0\n",
    "\n",
    "#Look at every vessel in the sheet\n",
    "for index in range(540,552):#range(0,sheet.shape[0]):\n",
    "\n",
    "    name = sheet.at[index,'Anatomy Name']\n",
    "    file_name = sheet.at[index,'Filename']\n",
    "    \n",
    "    #Determine whether the vessel branches at all\n",
    "    end_point = sheet.at[index,'End Point']\n",
    "\n",
    "    if pd.isna(end_point):\n",
    "        final_condition = 'LW' #indicating that the end condition will be the Lax Wendroff\n",
    "    else:\n",
    "        #If the branches exist then we need to process the \n",
    "        final_condition = end_point.split(',')\n",
    "        final_condition = [s.strip() for s in final_condition]\n",
    "    \n",
    "    #Does the vessel branch (other than the end condition?)\n",
    "    branches = sheet.at[index,'Out Flow']\n",
    "    \n",
    "    if pd.isna(branches):\n",
    "        segement_tag  = False\n",
    "    else:\n",
    "        segement_tag = True\n",
    "        branches = branches.split(',')\n",
    "        branches = [s.strip() for s in branches]\n",
    "        \n",
    "        #Remove end condition branches \n",
    "        if final_condition != 'LW':\n",
    "            for vessels in final_condition:\n",
    "                branches.remove(vessels)\n",
    "\n",
    "\n",
    "    \n",
    "    #If the vessel does segement now we gotta set spicy and determine where it segements for each vessel and which comes first\n",
    "    if segement_tag == True:\n",
    "        seg_df = pd.DataFrame(columns=['Branch Name','Index of Split'])\n",
    "        sub_index = 0\n",
    "        \n",
    "        #Find the file names of the main and branches\n",
    "        main_branch_filename = file_name + '_fitted_data.npy'\n",
    "        branch_filenames = []\n",
    "\n",
    "        #For each of the branching files determine the file name to load in the gile\n",
    "        for i in range(0,len(branches)):\n",
    "            branch_name = branches[i]\n",
    "            vessel_row = sheet[sheet['Anatomy Name'].str.match(branch_name)].index.values[0]\n",
    "            branch_filename = sheet.at[sheet.index[vessel_row],'Filename']\n",
    "            branch_filename = branch_filename + '_fitted_data.npy'\n",
    "            branch_filenames.append(branch_filename)\n",
    "\n",
    "        #Now we import all of the vessel file\n",
    "        try:\n",
    "            main_branch_array = np.load('C:\\\\Users\\\\Cassidy.Northway\\\\GitRemoteRepo\\\\FittedVesselsFiles\\\\' + main_branch_filename)\n",
    "        except:\n",
    "            main_branch_array = np.load('C:\\\\Users\\\\cbnor\\\\Documents\\\\Full Body Flow Model Project\\\\FittedVesselsFiles\\\\' + main_branch_filename)\n",
    "\n",
    "        for i in range(0,len(branches)):\n",
    "            branch_filename = branch_filenames[i]\n",
    "            branch_name = branches[i]\n",
    "        \n",
    "            try:\n",
    "                branch_array = np.load('C:\\\\Users\\\\Cassidy.Northway\\\\GitRemoteRepo\\\\FittedVesselsFiles\\\\' + branch_filename)\n",
    "            except:\n",
    "                branch_array = np.load('C:\\\\Users\\\\cbnor\\\\Documents\\\\Full Body Flow Model Project\\\\FittedVesselsFiles\\\\' + branch_filename)\n",
    "\n",
    "\n",
    "            #Find the nearest points\n",
    "            dist_array = scipy.spatial.distance.cdist(main_branch_array[:,0:3],branch_array[:,0:3])\n",
    "            dist_array = dist_array[:,0]\n",
    "\n",
    "            index_split = np.where (np.min(dist_array) == dist_array)[0]\n",
    "            seg_df.loc[len(seg_df)] = {'Branch Name': branch_name , 'Index of Split': index_split[0]}\n",
    "        \n",
    "        #We now have the number of off branching vessels and where they branch so now we need to now save the \n",
    "        #segements and off branches and sort segment frame by distance along vessel\n",
    "        \n",
    "        seg_df = seg_df.sort_values(by ='Index of Split')\n",
    "        intial_index = 0\n",
    "\n",
    "        for i in range(0,len(seg_df)+1):\n",
    "            while i < len(seg_df):\n",
    "                sub_name =  name + '_' + str(i)\n",
    "                final_index = seg_df.at [ i , 'Index of Split']\n",
    "                center_sub_array = main_branch_array[intial_index:final_index+1,0:3 ]\n",
    "                radius_array = main_branch_array[intial_index:final_index,3 ]\n",
    "                #end_condition = [name + '_' + str(i+1), branches[i] ]\n",
    "                new_row_seg = {'Name' : sub_name,'Centre Axis Array': center_sub_array, 'Radius Array' : radius_array,'End Condition' : '?' }\n",
    "                df.loc[len(df)] = new_row_seg\n",
    "                intial_index = final_index\n",
    "            else:\n",
    "                sub_name =  name + '_' + str(i)\n",
    "                final_index = -1\n",
    "                center_sub_array = main_branch_array[intial_index:final_index,0:3 ]\n",
    "                radius_array = main_branch_array[intial_index:final_index,3 ]\n",
    "                end_condition = final_condition\n",
    "                new_row_seg = {'Name' : sub_name,'Centre Axis Array': center_sub_array, 'Radius Array' : radius_array,'End Condition' : end_condition }\n",
    "                df.loc[len(df)] = new_row_seg\n",
    "                \n",
    "              \n",
    "                \n",
    "        \n",
    "        \n",
    "        \n",
    "    \n",
    "    \n",
    "  \n",
    "    \n",
    "            \n",
    "\n",
    "                    \n",
    "print(df)\n"
   ]
  },
  {
   "cell_type": "code",
   "execution_count": null,
   "id": "896e34aa",
   "metadata": {},
   "outputs": [],
   "source": []
  },
  {
   "cell_type": "code",
   "execution_count": null,
   "id": "6958e84b",
   "metadata": {},
   "outputs": [],
   "source": []
  },
  {
   "cell_type": "code",
   "execution_count": null,
   "id": "d12b1e57",
   "metadata": {},
   "outputs": [],
   "source": []
  }
 ],
 "metadata": {
  "kernelspec": {
   "display_name": "Python 3 (ipykernel)",
   "language": "python",
   "name": "python3"
  },
  "language_info": {
   "codemirror_mode": {
    "name": "ipython",
    "version": 3
   },
   "file_extension": ".py",
   "mimetype": "text/x-python",
   "name": "python",
   "nbconvert_exporter": "python",
   "pygments_lexer": "ipython3",
   "version": "3.8.16"
  }
 },
 "nbformat": 4,
 "nbformat_minor": 5
}
