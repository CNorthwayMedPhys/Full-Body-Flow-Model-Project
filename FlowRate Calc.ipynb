{
 "cells": [
  {
   "cell_type": "code",
   "execution_count": 2,
   "id": "0e67d775",
   "metadata": {},
   "outputs": [
    {
     "name": "stderr",
     "output_type": "stream",
     "text": [
      "'git' is not recognized as an internal or external command,\n",
      "operable program or batch file.\n"
     ]
    }
   ],
   "source": [
    "!git clone https://github.com/akdiem/VaMpy.git"
   ]
  },
  {
   "cell_type": "code",
   "execution_count": 3,
   "id": "84227082",
   "metadata": {},
   "outputs": [
    {
     "ename": "SyntaxError",
     "evalue": "invalid syntax (1607726542.py, line 1)",
     "output_type": "error",
     "traceback": [
      "\u001b[1;36m  Cell \u001b[1;32mIn[3], line 1\u001b[1;36m\u001b[0m\n\u001b[1;33m    conda env create -f vampy.yml\u001b[0m\n\u001b[1;37m          ^\u001b[0m\n\u001b[1;31mSyntaxError\u001b[0m\u001b[1;31m:\u001b[0m invalid syntax\n"
     ]
    }
   ],
   "source": [
    "conda env create -f vampy.yml\n",
    "source activate vampy"
   ]
  },
  {
   "cell_type": "code",
   "execution_count": 4,
   "id": "463b01dd",
   "metadata": {},
   "outputs": [
    {
     "name": "stderr",
     "output_type": "stream",
     "text": [
      "ERROR: Could not find a version that satisfies the requirement vampy (from versions: none)\n",
      "ERROR: No matching distribution found for vampy\n"
     ]
    }
   ],
   "source": [
    "!pip install vampy\n"
   ]
  },
  {
   "cell_type": "code",
   "execution_count": 5,
   "id": "89b37f9b",
   "metadata": {},
   "outputs": [
    {
     "name": "stderr",
     "output_type": "stream",
     "text": [
      "ERROR: Could not find a version that satisfies the requirement vampy (from versions: none)\n",
      "ERROR: No matching distribution found for vampy\n"
     ]
    }
   ],
   "source": [
    "!pip install vampy\n"
   ]
  },
  {
   "cell_type": "code",
   "execution_count": 6,
   "id": "612a97cd",
   "metadata": {},
   "outputs": [
    {
     "name": "stdout",
     "output_type": "stream",
     "text": [
      "\n",
      "Note: you may need to restart the kernel to use updated packages.\n"
     ]
    },
    {
     "name": "stderr",
     "output_type": "stream",
     "text": [
      "\n",
      "EnvironmentFileNotFound: 'C:\\Users\\cbnor\\Documents\\Full Body Flow Model Project\\vampy.yml' file not found\n",
      "\n"
     ]
    }
   ],
   "source": [
    "conda env create -f vampy.yml"
   ]
  },
  {
   "cell_type": "code",
   "execution_count": 7,
   "id": "3bb30bb1",
   "metadata": {},
   "outputs": [
    {
     "name": "stdout",
     "output_type": "stream",
     "text": [
      "Requirement already satisfied: vampy in c:\\users\\cbnor\\anaconda3\\lib\\site-packages\\vampy-1.0.0-py3.8.egg (1.0.0)\n",
      "Requirement already satisfied: numpy in c:\\users\\cbnor\\anaconda3\\lib\\site-packages (from vampy) (1.24.3)\n",
      "Requirement already satisfied: matplotlib in c:\\users\\cbnor\\anaconda3\\lib\\site-packages (from vampy) (3.7.2)\n",
      "Requirement already satisfied: scipy in c:\\users\\cbnor\\anaconda3\\lib\\site-packages (from vampy) (1.10.1)\n",
      "Requirement already satisfied: configparser in c:\\users\\cbnor\\anaconda3\\lib\\site-packages\\configparser-6.0.0-py3.8.egg (from vampy) (6.0.0)\n",
      "Requirement already satisfied: contourpy>=1.0.1 in c:\\users\\cbnor\\anaconda3\\lib\\site-packages (from matplotlib->vampy) (1.1.0)\n",
      "Requirement already satisfied: cycler>=0.10 in c:\\users\\cbnor\\anaconda3\\lib\\site-packages (from matplotlib->vampy) (0.11.0)\n",
      "Requirement already satisfied: fonttools>=4.22.0 in c:\\users\\cbnor\\anaconda3\\lib\\site-packages (from matplotlib->vampy) (4.40.0)\n",
      "Requirement already satisfied: kiwisolver>=1.0.1 in c:\\users\\cbnor\\anaconda3\\lib\\site-packages (from matplotlib->vampy) (1.4.4)\n",
      "Requirement already satisfied: packaging>=20.0 in c:\\users\\cbnor\\anaconda3\\lib\\site-packages (from matplotlib->vampy) (23.0)\n",
      "Requirement already satisfied: pillow>=6.2.0 in c:\\users\\cbnor\\anaconda3\\lib\\site-packages (from matplotlib->vampy) (9.4.0)\n",
      "Requirement already satisfied: pyparsing<3.1,>=2.3.1 in c:\\users\\cbnor\\anaconda3\\lib\\site-packages (from matplotlib->vampy) (3.0.9)\n",
      "Requirement already satisfied: python-dateutil>=2.7 in c:\\users\\cbnor\\anaconda3\\lib\\site-packages (from matplotlib->vampy) (2.8.2)\n",
      "Requirement already satisfied: importlib-resources>=3.2.0 in c:\\users\\cbnor\\anaconda3\\lib\\site-packages (from matplotlib->vampy) (5.2.0)\n",
      "Requirement already satisfied: zipp>=3.1.0 in c:\\users\\cbnor\\anaconda3\\lib\\site-packages (from importlib-resources>=3.2.0->matplotlib->vampy) (3.11.0)\n",
      "Requirement already satisfied: six>=1.5 in c:\\users\\cbnor\\anaconda3\\lib\\site-packages (from python-dateutil>=2.7->matplotlib->vampy) (1.16.0)\n"
     ]
    }
   ],
   "source": [
    "!pip install vampy\n",
    "\n"
   ]
  },
  {
   "cell_type": "code",
   "execution_count": 8,
   "id": "dfc1f125",
   "metadata": {},
   "outputs": [
    {
     "ename": "ModuleNotFoundError",
     "evalue": "No module named 'vampy'",
     "output_type": "error",
     "traceback": [
      "\u001b[1;31m---------------------------------------------------------------------------\u001b[0m",
      "\u001b[1;31mModuleNotFoundError\u001b[0m                       Traceback (most recent call last)",
      "Cell \u001b[1;32mIn[8], line 1\u001b[0m\n\u001b[1;32m----> 1\u001b[0m \u001b[38;5;28;01mimport\u001b[39;00m \u001b[38;5;21;01mvampy\u001b[39;00m\n",
      "\u001b[1;31mModuleNotFoundError\u001b[0m: No module named 'vampy'"
     ]
    }
   ],
   "source": []
  },
  {
   "cell_type": "code",
   "execution_count": null,
   "id": "b0702a20",
   "metadata": {},
   "outputs": [],
   "source": []
  }
 ],
 "metadata": {
  "kernelspec": {
   "display_name": "Python 3 (ipykernel)",
   "language": "python",
   "name": "python3"
  },
  "language_info": {
   "codemirror_mode": {
    "name": "ipython",
    "version": 3
   },
   "file_extension": ".py",
   "mimetype": "text/x-python",
   "name": "python",
   "nbconvert_exporter": "python",
   "pygments_lexer": "ipython3",
   "version": "3.8.16"
  }
 },
 "nbformat": 4,
 "nbformat_minor": 5
}
